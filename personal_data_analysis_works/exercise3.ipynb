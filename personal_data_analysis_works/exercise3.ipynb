{
 "cells": [
  {
   "cell_type": "markdown",
   "id": "497469bf",
   "metadata": {},
   "source": [
    "# Homework  Table of content：\n",
    "* [1. ](#bullet1)\n",
    "* [2. ](#bullet2)\n",
    "* [3. ](#bullet3)\n",
    "* [4. ](#bullet4)\n",
    "* [5. ](#bullet5)\n",
    "* [6. ](#bullet6)\n",
    "* [7. ](#bullet7)"
   ]
  },
  {
   "cell_type": "code",
   "execution_count": 1,
   "id": "1f95d9e6",
   "metadata": {},
   "outputs": [],
   "source": [
    "#import library\n",
    "import pandas as pd\n",
    "import numpy as np\n",
    "import scipy.stats as stats"
   ]
  },
  {
   "cell_type": "code",
   "execution_count": 2,
   "id": "8d2203b4",
   "metadata": {},
   "outputs": [
    {
     "data": {
      "text/html": [
       "<div>\n",
       "<style scoped>\n",
       "    .dataframe tbody tr th:only-of-type {\n",
       "        vertical-align: middle;\n",
       "    }\n",
       "\n",
       "    .dataframe tbody tr th {\n",
       "        vertical-align: top;\n",
       "    }\n",
       "\n",
       "    .dataframe thead th {\n",
       "        text-align: right;\n",
       "    }\n",
       "</style>\n",
       "<table border=\"1\" class=\"dataframe\">\n",
       "  <thead>\n",
       "    <tr style=\"text-align: right;\">\n",
       "      <th></th>\n",
       "      <th>Unnamed: 0</th>\n",
       "      <th>year</th>\n",
       "      <th>month</th>\n",
       "      <th>day</th>\n",
       "      <th>dep_time</th>\n",
       "      <th>sched_dep_time</th>\n",
       "      <th>dep_delay</th>\n",
       "      <th>arr_time</th>\n",
       "      <th>sched_arr_time</th>\n",
       "      <th>arr_delay</th>\n",
       "      <th>carrier</th>\n",
       "      <th>flight</th>\n",
       "      <th>tailnum</th>\n",
       "      <th>origin</th>\n",
       "      <th>dest</th>\n",
       "      <th>air_time</th>\n",
       "      <th>distance</th>\n",
       "      <th>hour</th>\n",
       "      <th>minute</th>\n",
       "      <th>time_hour</th>\n",
       "    </tr>\n",
       "  </thead>\n",
       "  <tbody>\n",
       "    <tr>\n",
       "      <th>0</th>\n",
       "      <td>1</td>\n",
       "      <td>2013</td>\n",
       "      <td>1</td>\n",
       "      <td>1</td>\n",
       "      <td>517.0</td>\n",
       "      <td>515</td>\n",
       "      <td>2.0</td>\n",
       "      <td>830.0</td>\n",
       "      <td>819</td>\n",
       "      <td>11.0</td>\n",
       "      <td>UA</td>\n",
       "      <td>1545</td>\n",
       "      <td>N14228</td>\n",
       "      <td>EWR</td>\n",
       "      <td>IAH</td>\n",
       "      <td>227.0</td>\n",
       "      <td>1400</td>\n",
       "      <td>5</td>\n",
       "      <td>15</td>\n",
       "      <td>2013-01-01 05:00:00</td>\n",
       "    </tr>\n",
       "    <tr>\n",
       "      <th>1</th>\n",
       "      <td>2</td>\n",
       "      <td>2013</td>\n",
       "      <td>1</td>\n",
       "      <td>1</td>\n",
       "      <td>533.0</td>\n",
       "      <td>529</td>\n",
       "      <td>4.0</td>\n",
       "      <td>850.0</td>\n",
       "      <td>830</td>\n",
       "      <td>20.0</td>\n",
       "      <td>UA</td>\n",
       "      <td>1714</td>\n",
       "      <td>N24211</td>\n",
       "      <td>LGA</td>\n",
       "      <td>IAH</td>\n",
       "      <td>227.0</td>\n",
       "      <td>1416</td>\n",
       "      <td>5</td>\n",
       "      <td>29</td>\n",
       "      <td>2013-01-01 05:00:00</td>\n",
       "    </tr>\n",
       "    <tr>\n",
       "      <th>2</th>\n",
       "      <td>3</td>\n",
       "      <td>2013</td>\n",
       "      <td>1</td>\n",
       "      <td>1</td>\n",
       "      <td>542.0</td>\n",
       "      <td>540</td>\n",
       "      <td>2.0</td>\n",
       "      <td>923.0</td>\n",
       "      <td>850</td>\n",
       "      <td>33.0</td>\n",
       "      <td>AA</td>\n",
       "      <td>1141</td>\n",
       "      <td>N619AA</td>\n",
       "      <td>JFK</td>\n",
       "      <td>MIA</td>\n",
       "      <td>160.0</td>\n",
       "      <td>1089</td>\n",
       "      <td>5</td>\n",
       "      <td>40</td>\n",
       "      <td>2013-01-01 05:00:00</td>\n",
       "    </tr>\n",
       "    <tr>\n",
       "      <th>3</th>\n",
       "      <td>4</td>\n",
       "      <td>2013</td>\n",
       "      <td>1</td>\n",
       "      <td>1</td>\n",
       "      <td>544.0</td>\n",
       "      <td>545</td>\n",
       "      <td>-1.0</td>\n",
       "      <td>1004.0</td>\n",
       "      <td>1022</td>\n",
       "      <td>-18.0</td>\n",
       "      <td>B6</td>\n",
       "      <td>725</td>\n",
       "      <td>N804JB</td>\n",
       "      <td>JFK</td>\n",
       "      <td>BQN</td>\n",
       "      <td>183.0</td>\n",
       "      <td>1576</td>\n",
       "      <td>5</td>\n",
       "      <td>45</td>\n",
       "      <td>2013-01-01 05:00:00</td>\n",
       "    </tr>\n",
       "    <tr>\n",
       "      <th>4</th>\n",
       "      <td>5</td>\n",
       "      <td>2013</td>\n",
       "      <td>1</td>\n",
       "      <td>1</td>\n",
       "      <td>554.0</td>\n",
       "      <td>600</td>\n",
       "      <td>-6.0</td>\n",
       "      <td>812.0</td>\n",
       "      <td>837</td>\n",
       "      <td>-25.0</td>\n",
       "      <td>DL</td>\n",
       "      <td>461</td>\n",
       "      <td>N668DN</td>\n",
       "      <td>LGA</td>\n",
       "      <td>ATL</td>\n",
       "      <td>116.0</td>\n",
       "      <td>762</td>\n",
       "      <td>6</td>\n",
       "      <td>0</td>\n",
       "      <td>2013-01-01 06:00:00</td>\n",
       "    </tr>\n",
       "  </tbody>\n",
       "</table>\n",
       "</div>"
      ],
      "text/plain": [
       "   Unnamed: 0  year  month  day  dep_time  sched_dep_time  dep_delay  \\\n",
       "0           1  2013      1    1     517.0             515        2.0   \n",
       "1           2  2013      1    1     533.0             529        4.0   \n",
       "2           3  2013      1    1     542.0             540        2.0   \n",
       "3           4  2013      1    1     544.0             545       -1.0   \n",
       "4           5  2013      1    1     554.0             600       -6.0   \n",
       "\n",
       "   arr_time  sched_arr_time  arr_delay carrier  flight tailnum origin dest  \\\n",
       "0     830.0             819       11.0      UA    1545  N14228    EWR  IAH   \n",
       "1     850.0             830       20.0      UA    1714  N24211    LGA  IAH   \n",
       "2     923.0             850       33.0      AA    1141  N619AA    JFK  MIA   \n",
       "3    1004.0            1022      -18.0      B6     725  N804JB    JFK  BQN   \n",
       "4     812.0             837      -25.0      DL     461  N668DN    LGA  ATL   \n",
       "\n",
       "   air_time  distance  hour  minute            time_hour  \n",
       "0     227.0      1400     5      15  2013-01-01 05:00:00  \n",
       "1     227.0      1416     5      29  2013-01-01 05:00:00  \n",
       "2     160.0      1089     5      40  2013-01-01 05:00:00  \n",
       "3     183.0      1576     5      45  2013-01-01 05:00:00  \n",
       "4     116.0       762     6       0  2013-01-01 06:00:00  "
      ]
     },
     "execution_count": 2,
     "metadata": {},
     "output_type": "execute_result"
    }
   ],
   "source": [
    "#data import\n",
    "f = pd.read_csv(\"D:/Git_Desk/data_works/MDS_stuffs/hw_data/nycflights.csv\")\n",
    "f.head()"
   ]
  },
  {
   "cell_type": "markdown",
   "id": "f8033392",
   "metadata": {},
   "source": [
    "#### 1. <a class=\"anchor\" id=\"bullet1\"></a>[20 pts] Write a function that takes a single numerical vector and returns three values, the minimum number, the median, and the maximum number of the vector. Test your function using the month column of the flights dataset."
   ]
  },
  {
   "cell_type": "code",
   "execution_count": 3,
   "id": "81449bc8",
   "metadata": {},
   "outputs": [
    {
     "data": {
      "text/plain": [
       "(1, 7.0, 12)"
      ]
     },
     "execution_count": 3,
     "metadata": {},
     "output_type": "execute_result"
    }
   ],
   "source": [
    "#define a function that gather inputs from dataframe: \n",
    "def min_median_max(value):\n",
    "    return np.min(value), np.median(value), np.max(value)\n",
    "#set input as month column:\n",
    "min_median_max(f[\"month\"])"
   ]
  },
  {
   "cell_type": "markdown",
   "id": "e12ebbf8",
   "metadata": {},
   "source": [
    "#### 2. [5 pts] Explain your reasoning for choosing your function's name in the previous question. <a class=\"anchor\" id=\"bullet2\"></a>"
   ]
  },
  {
   "cell_type": "markdown",
   "id": "5a99e8b1",
   "metadata": {},
   "source": [
    "the reason I choose the function name as \"min_median_max\" is because it simply tell us the purpose of the function with an order of 1: min, 2: median, 3: max, and this is easy for programmer to call and test the function."
   ]
  },
  {
   "cell_type": "markdown",
   "id": "92164866",
   "metadata": {},
   "source": [
    "#### 3. [20 pts] Write a function that categorizes a numerical variable in the flights data into four categories. <a class=\"anchor\" id=\"bullet3\"></a>"
   ]
  },
  {
   "cell_type": "markdown",
   "id": "9861c9ab",
   "metadata": {},
   "source": [
    "The function should have two arguments. The first should represent the data object and the second should represent a column name in the data object.\n",
    "\n",
    "The function should first limit the data to include the column name only. Then it should return one new column which categorizes the column into four categories in the following manner. For any particular variable in the flights data that represents military time (i.e.-0 to 2400 where 1200 represents 12 in the afternoon and 2400 represents midnight), the function should classify values into four categories: - \"Morning\" for values from 5 am to 11:59 am - \"Afternoon\" for values from 12 pm to 4:59 pm - \"Evening\" for values from 5 pm to 8:59 pm - \"Night\" for values from 9 pm to 4:59 am  \n",
    "Test your function using the dep_time column of the flights dataset. Print a frequency table of the output."
   ]
  },
  {
   "cell_type": "code",
   "execution_count": 4,
   "id": "5e2c3b80",
   "metadata": {},
   "outputs": [
    {
     "name": "stderr",
     "output_type": "stream",
     "text": [
      "C:\\Users\\suisx\\AppData\\Local\\Temp\\ipykernel_9756\\2764442458.py:21: SettingWithCopyWarning: \n",
      "A value is trying to be set on a copy of a slice from a DataFrame.\n",
      "Try using .loc[row_indexer,col_indexer] = value instead\n",
      "\n",
      "See the caveats in the documentation: https://pandas.pydata.org/pandas-docs/stable/user_guide/indexing.html#returning-a-view-versus-a-copy\n",
      "  f_clear[\"departure_in\"] = dep_time_to_category(f_clear, \"dep_time\")\n"
     ]
    },
    {
     "data": {
      "text/plain": [
       "Morning      129539\n",
       "Afternoon     98617\n",
       "Evening       79793\n",
       "Night         20572\n",
       "Name: departure_in, dtype: int64"
      ]
     },
     "execution_count": 4,
     "metadata": {},
     "output_type": "execute_result"
    }
   ],
   "source": [
    "#drop NaN value so we don't overcount the last category:\n",
    "f_clear = f.dropna(subset=[\"dep_time\"])\n",
    "\n",
    "#define the function:\n",
    "def dep_time_to_category(data, col_name):\n",
    "    #create a column:\n",
    "    time_in_day = data[col_name]\n",
    "    dep_cat = []\n",
    "    for dtime in time_in_day:\n",
    "        if dtime >= 500 and dtime <= 1159:\n",
    "            dep_cat.append(\"Morning\")\n",
    "        elif dtime > 1159 and dtime <= 1659:\n",
    "            dep_cat.append(\"Afternoon\")\n",
    "        elif dtime > 1659 and dtime <= 2059:\n",
    "            dep_cat.append(\"Evening\")\n",
    "        else:\n",
    "            dep_cat.append(\"Night\")\n",
    "    return dep_cat\n",
    "\n",
    "#create the column departure_in with the original data from column \"dep_time\" by the function.\n",
    "f_clear[\"departure_in\"] = dep_time_to_category(f_clear, \"dep_time\")\n",
    "f_clear[\"departure_in\"].value_counts()"
   ]
  },
  {
   "cell_type": "code",
   "execution_count": 5,
   "id": "c97d9f4e",
   "metadata": {},
   "outputs": [
    {
     "data": {
      "text/plain": [
       "'Please ignore this part, this is just another approach without using a function.\\n#create 2 criterias:\\nconditions = [(f[\"month\"] <= 3), (f[\"month\"] <= 6) & (f[\"month\"] >3), (f[\"month\"] <= 9) & (f[\"month\"] > 6), (f[\"month\"] > 9)] \\nchoices = [\"Quarter_One\", \"Quarter_Two\", \"Quarter_Three\", \"Quarter_Four\"]\\n#build a \\nf[\"quarter\"] = np.select(conditions, choices, default=np.nan)\\nf[\"quarter\"].value_counts()\\n'"
      ]
     },
     "execution_count": 5,
     "metadata": {},
     "output_type": "execute_result"
    }
   ],
   "source": [
    "'''Please ignore this part, this is just another approach without using a function.\n",
    "#create 2 criterias:\n",
    "conditions = [(f[\"month\"] <= 3), (f[\"month\"] <= 6) & (f[\"month\"] >3), (f[\"month\"] <= 9) & (f[\"month\"] > 6), (f[\"month\"] > 9)] \n",
    "choices = [\"Quarter_One\", \"Quarter_Two\", \"Quarter_Three\", \"Quarter_Four\"]\n",
    "#build a \n",
    "f[\"quarter\"] = np.select(conditions, choices, default=np.nan)\n",
    "f[\"quarter\"].value_counts()\n",
    "'''"
   ]
  },
  {
   "cell_type": "markdown",
   "id": "a832a55f",
   "metadata": {},
   "source": [
    "#### 4. [5 pts] Explain your reasoning for choosing your function's name in the previous question. <a class=\"anchor\" id=\"bullet4\"></a>"
   ]
  },
  {
   "cell_type": "markdown",
   "id": "eb1b2015",
   "metadata": {},
   "source": [
    "because this is a function that write the value in a list depending on the criteria column, in this case, we are generating 4 categories that includes \"morning\", \"afternoon\", \"evening\", and \"night\". therefore, I named it as dep_time_to_category which means generate category variable by departure time, which is easy to find and understand."
   ]
  },
  {
   "cell_type": "markdown",
   "id": "a064c8b9",
   "metadata": {},
   "source": [
    "#### 5. [20 pts] Write a function that calculates the median of all numeric variables in the flights dataset.  <a class=\"anchor\" id=\"bullet5\"></a>\n",
    "\n",
    "Hint: There are several ways to subset to numeric values only. The code below will select numeric colmns only. Once you have a dataset of numeric variables only, you can use a pandas function to return a pd.DataFrame object which has the median for all variables (I might try using the apply function here). Another way to do this is with a for loop (which we will learn next week, but it's a simple enough concept that you can google and learn how to use it for this assignment)."
   ]
  },
  {
   "cell_type": "code",
   "execution_count": 6,
   "id": "8241916b",
   "metadata": {},
   "outputs": [
    {
     "data": {
      "text/html": [
       "<div>\n",
       "<style scoped>\n",
       "    .dataframe tbody tr th:only-of-type {\n",
       "        vertical-align: middle;\n",
       "    }\n",
       "\n",
       "    .dataframe tbody tr th {\n",
       "        vertical-align: top;\n",
       "    }\n",
       "\n",
       "    .dataframe thead th {\n",
       "        text-align: right;\n",
       "    }\n",
       "</style>\n",
       "<table border=\"1\" class=\"dataframe\">\n",
       "  <thead>\n",
       "    <tr style=\"text-align: right;\">\n",
       "      <th></th>\n",
       "      <th>median</th>\n",
       "    </tr>\n",
       "  </thead>\n",
       "  <tbody>\n",
       "    <tr>\n",
       "      <th>Unnamed: 0</th>\n",
       "      <td>168388.5</td>\n",
       "    </tr>\n",
       "    <tr>\n",
       "      <th>year</th>\n",
       "      <td>2013.0</td>\n",
       "    </tr>\n",
       "    <tr>\n",
       "      <th>month</th>\n",
       "      <td>7.0</td>\n",
       "    </tr>\n",
       "    <tr>\n",
       "      <th>day</th>\n",
       "      <td>16.0</td>\n",
       "    </tr>\n",
       "    <tr>\n",
       "      <th>dep_time</th>\n",
       "      <td>1401.0</td>\n",
       "    </tr>\n",
       "    <tr>\n",
       "      <th>sched_dep_time</th>\n",
       "      <td>1359.0</td>\n",
       "    </tr>\n",
       "    <tr>\n",
       "      <th>dep_delay</th>\n",
       "      <td>-2.0</td>\n",
       "    </tr>\n",
       "    <tr>\n",
       "      <th>arr_time</th>\n",
       "      <td>1535.0</td>\n",
       "    </tr>\n",
       "    <tr>\n",
       "      <th>sched_arr_time</th>\n",
       "      <td>1556.0</td>\n",
       "    </tr>\n",
       "    <tr>\n",
       "      <th>arr_delay</th>\n",
       "      <td>-5.0</td>\n",
       "    </tr>\n",
       "    <tr>\n",
       "      <th>flight</th>\n",
       "      <td>1496.0</td>\n",
       "    </tr>\n",
       "    <tr>\n",
       "      <th>air_time</th>\n",
       "      <td>129.0</td>\n",
       "    </tr>\n",
       "    <tr>\n",
       "      <th>distance</th>\n",
       "      <td>872.0</td>\n",
       "    </tr>\n",
       "    <tr>\n",
       "      <th>hour</th>\n",
       "      <td>13.0</td>\n",
       "    </tr>\n",
       "    <tr>\n",
       "      <th>minute</th>\n",
       "      <td>29.0</td>\n",
       "    </tr>\n",
       "  </tbody>\n",
       "</table>\n",
       "</div>"
      ],
      "text/plain": [
       "                  median\n",
       "Unnamed: 0      168388.5\n",
       "year              2013.0\n",
       "month                7.0\n",
       "day                 16.0\n",
       "dep_time          1401.0\n",
       "sched_dep_time    1359.0\n",
       "dep_delay           -2.0\n",
       "arr_time          1535.0\n",
       "sched_arr_time    1556.0\n",
       "arr_delay           -5.0\n",
       "flight            1496.0\n",
       "air_time           129.0\n",
       "distance           872.0\n",
       "hour                13.0\n",
       "minute              29.0"
      ]
     },
     "execution_count": 6,
     "metadata": {},
     "output_type": "execute_result"
    }
   ],
   "source": [
    "#define a function, get numeric value from dataframe and find medium:\n",
    "def get_numeric_median(f):\n",
    "    #create a df with only numeric columns:\n",
    "    df_num = f.select_dtypes(include=np.number)\n",
    "    medians = df_num.median()\n",
    "    #build a dataframe with dictionary index and value.\n",
    "    df_median = pd.DataFrame({'median': medians})\n",
    "    return df_median\n",
    "#apply the function to build new dataframe:\n",
    "flight_median = get_numeric_median(f)\n",
    "flight_median"
   ]
  },
  {
   "cell_type": "code",
   "execution_count": 7,
   "id": "44ca72c2",
   "metadata": {},
   "outputs": [
    {
     "data": {
      "text/plain": [
       "\"Old code\\n#create a df with only numeric columns:\\ndf_num = f.select_dtypes(include=np.number)\\n#create medians dictionary, has to be dictionary\\nmedians = {}\\n#define a function, in dictionary medians, we are getting median from data in df_num:\\ndef get_median(col, df_num):\\n    for col in df_num.columns:\\n        medians[col] = df_num[col].median()\\n#form the data from medians into a pd.DataFrame.  \\n    df_median = pd.DataFrame.from_dict(medians, orient='index', columns=['median'])\\n    return df_median\\ndf_median\\n\""
      ]
     },
     "execution_count": 7,
     "metadata": {},
     "output_type": "execute_result"
    }
   ],
   "source": [
    "\"\"\"Old code\n",
    "#create a df with only numeric columns:\n",
    "df_num = f.select_dtypes(include=np.number)\n",
    "#create medians dictionary, has to be dictionary\n",
    "medians = {}\n",
    "#define a function, in dictionary medians, we are getting median from data in df_num:\n",
    "def get_median(col, df_num):\n",
    "    for col in df_num.columns:\n",
    "        medians[col] = df_num[col].median()\n",
    "#form the data from medians into a pd.DataFrame.  \n",
    "    df_median = pd.DataFrame.from_dict(medians, orient='index', columns=['median'])\n",
    "    return df_median\n",
    "df_median\n",
    "\"\"\""
   ]
  },
  {
   "cell_type": "code",
   "execution_count": 8,
   "id": "26b05e2c",
   "metadata": {},
   "outputs": [
    {
     "data": {
      "text/plain": [
       "'my slow way to filter the non-numeric data:\\n#create a function:\\ndef only_numeric_col(dataframe):\\n    #create a list of column kept:\\n    col_keep = []\\n    #define numeric data type:\\n    for col in dataframe:\\n        if dataframe[col].dtype == \"float64\" or dataframe[col].dtype == \"int64\":\\n            col_keep.append(col)\\n    return col_keep\\n\\n# bring in the dataframe to my function\\nsubset_num = f[only_numeric_col(f)]\\nsubset_num\\n'"
      ]
     },
     "execution_count": 8,
     "metadata": {},
     "output_type": "execute_result"
    }
   ],
   "source": [
    "\"\"\"my slow way to filter the non-numeric data:\n",
    "#create a function:\n",
    "def only_numeric_col(dataframe):\n",
    "    #create a list of column kept:\n",
    "    col_keep = []\n",
    "    #define numeric data type:\n",
    "    for col in dataframe:\n",
    "        if dataframe[col].dtype == \"float64\" or dataframe[col].dtype == \"int64\":\n",
    "            col_keep.append(col)\n",
    "    return col_keep\n",
    "\n",
    "# bring in the dataframe to my function\n",
    "subset_num = f[only_numeric_col(f)]\n",
    "subset_num\n",
    "\"\"\""
   ]
  },
  {
   "cell_type": "markdown",
   "id": "1fff33bf",
   "metadata": {},
   "source": [
    "#### 6. [5 pts] Explain your reasoning for choosing your function's name in the previous question. <a class=\"anchor\" id=\"bullet6\"></a>"
   ]
  },
  {
   "cell_type": "markdown",
   "id": "ed98faed",
   "metadata": {},
   "source": [
    "The name of the function is telling us that I am building a function that will get numeric value from dataframe and find the median for all columns. And then we use flight_median and apply the function to output the dataframe."
   ]
  },
  {
   "cell_type": "markdown",
   "id": "1bb10e6e",
   "metadata": {},
   "source": [
    "#### 7. <a class=\"anchor\" id=\"bullet7\"></a>Modify the function t_test() we wrote in class together this week so that this function can handle violations to the homogeneity of variance (hov) assumption. This assumption is described below in case you are not familiar with it. "
   ]
  },
  {
   "cell_type": "code",
   "execution_count": 9,
   "id": "5a2fa375",
   "metadata": {
    "scrolled": true
   },
   "outputs": [],
   "source": [
    "def t_test(num_var, bin_var):  \n",
    "    \n",
    "    # define two groups based on the binary predictor\n",
    "    group1 = num_var[bin_var == 0]\n",
    "    group2 = num_var[bin_var == 1]\n",
    "    #mean difference:\n",
    "    mean_diff = group2.mean() - group1.mean()\n",
    "    #sample means\n",
    "    mean_g1 = group1.mean()\n",
    "    mean_g2 = group2.mean()\n",
    "    #two group variances\n",
    "    var_g1 = group1.var()\n",
    "    var_g2 = group2.var()\n",
    "    #sample sizes\n",
    "    n_g1 = group1.shape[0]\n",
    "    n_g2 = group2.shape[0]\n",
    "    \n",
    "    #compare variance for group1 and group2:\n",
    "    var_ratio = var_g1 / var_g2\n",
    "    if var_ratio > 0.25 and ratio < 4:\n",
    "        \n",
    "        # Calculate the degrees of freedom (std_t_df)\n",
    "        std_t_df = n_g1 + n_g2 - 2\n",
    "\n",
    "        # Calculate the pooled standard deviation (sp)\n",
    "        sp = np.sqrt(((n_g1 - 1) * var_g1 + (n_g2 - 1) * var_g2) / std_t_df)\n",
    "\n",
    "        # Calculate the standard error of the mean difference\n",
    "        SE_mean_diff = sp * np.sqrt(1/n_g1 + 1/n_g2)\n",
    "\n",
    "        # Calculate the t-statistic\n",
    "        t_statistic = mean_diff / SE_mean_diff\n",
    "\n",
    "        # Calculate the p-value\n",
    "        p_value = 2 * (1 - stats.t.cdf(np.abs(t_statistic), std_t_df))\n",
    "\n",
    "        # Put the results into a DataFrame\n",
    "        results = pd.DataFrame({\n",
    "            \"Continuous Variable\": [num_var.name],\n",
    "            \"Binary Variable\": [bin_var.name],\n",
    "            \"Total Sample Size\": [n_g1 + n_g2],\n",
    "            \"Mean Difference\": [round(mean_diff, 2)], \n",
    "            \"SE of Mean Difference\": [round(SE_mean_diff, 2)],\n",
    "            \"standard degree of freedom\": [std_t_df],\n",
    "            \"t-statistic\": [round(t_statistic, 3)],\n",
    "            \"P-value\": [(\"%.3f\" % p_value).lstrip('0')],\n",
    "            \"Method\" : \"Independent samples t-test\"\n",
    "        })\n",
    "        print(\"The homogeneity of variance assumption was not violated, so an independent samples t-test was conducted\")\n",
    "        return results\n",
    "\n",
    "    else:\n",
    "        #Conduct Welch's t-test\n",
    "        # Calculate the degrees of freedom (welch_df)\n",
    "        welch_df = ((var_g1/n_g1 + var_g2/n_g2)**2)/(1/(n_g1-1)*(var_g1/n_g1)**2+(1/(n_g2-1)*(var_g2/n_g2)**2))\n",
    "\n",
    "        # Calculate the pooled standard deviation (sp)\n",
    "        sp = np.sqrt(((n_g1 - 1) * var_g1 + (n_g2 - 1) * var_g2) / welch_df)\n",
    "\n",
    "        # Calculate the standard error of the mean difference\n",
    "        SE_mean_diff = sp * np.sqrt(1/n_g1 + 1/n_g2)\n",
    "\n",
    "        # Calculate the t-statistic\n",
    "        t_statistic = mean_diff / (np.sqrt(var_g1/n_g1 + var_g2/n_g2))\n",
    "\n",
    "        # Calculate the p-value\n",
    "        p_value = 2 * (1 - stats.t.cdf(np.abs(t_statistic), welch_df))\n",
    "\n",
    "        # Put the results into a DataFrame\n",
    "        results = pd.DataFrame({\n",
    "            \"Continuous Variable\": [num_var.name],\n",
    "            \"Binary Variable\": [bin_var.name],\n",
    "            \"Total Sample Size\": [n_g1 + n_g2],\n",
    "            \"Mean Difference\": [round(mean_diff, 2)], \n",
    "            \"SE of Mean Difference\": [round(SE_mean_diff, 2)],\n",
    "            \"welch degree of freedom\": [welch_df],\n",
    "            \"t-statistic\": [round(t_statistic, 3)],\n",
    "            \"P-value\": [(\"%.3f\" % p_value).lstrip('0')],\n",
    "            \"Method\" : \"Welch's t-test\"\n",
    "        })\n",
    "        print(\"The homogeneity of variance assumption was violated, so Welch's t-test was conducted\")\n",
    "        return results \n",
    "    "
   ]
  }
 ],
 "metadata": {
  "kernelspec": {
   "display_name": "Python 3 (ipykernel)",
   "language": "python",
   "name": "python3"
  },
  "language_info": {
   "codemirror_mode": {
    "name": "ipython",
    "version": 3
   },
   "file_extension": ".py",
   "mimetype": "text/x-python",
   "name": "python",
   "nbconvert_exporter": "python",
   "pygments_lexer": "ipython3",
   "version": "3.9.12"
  }
 },
 "nbformat": 4,
 "nbformat_minor": 5
}
